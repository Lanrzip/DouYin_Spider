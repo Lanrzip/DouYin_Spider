{
 "cells": [
  {
   "cell_type": "code",
   "execution_count": 1,
   "metadata": {},
   "outputs": [],
   "source": [
    "import os\n",
    "import json\n",
    "import requests\n",
    "import paramiko\n",
    "\n",
    "\n",
    "server_user = \"root\"\n",
    "server_host = \"region-42.seetacloud.com\"\n",
    "server_path = \"/root/\"\n",
    "server_port = 27691\n",
    "server_password = \"8VGQlBc7XbQU\"\n",
    "\n",
    "ssh = paramiko.SSHClient()\n",
    "ssh.set_missing_host_key_policy(paramiko.AutoAddPolicy())\n",
    "ssh.connect(server_host, port=server_port, username=server_user, password=server_password)"
   ]
  },
  {
   "cell_type": "code",
   "execution_count": 25,
   "metadata": {},
   "outputs": [],
   "source": [
    "path = \"./datas/小麦日记_MS4wLjABAAAAp2OG100fRV13HqBbRnbPM_l7DU0eTOaxgL-4_l07fQo/“你观棋不语却恰破了我的局”#赵今麦#赵今麦李蓉#赵今麦度华年#李蓉#度华年_7323458193810591027\"\n",
    "url = \"http://v3-web.douyinvod.com/4c69325e49aed27d8f57e50471f0cf2b/66891009/video/tos/cn/tos-cn-ve-15c001-alinc2/oIDeoD9AQAAb1IVEglLg7QsrDBeTLXoni5LmlN/?a=6383&ch=10010&cr=3&dr=0&lr=all&cd=0%7C0%7C0%7C3&cv=1&br=1262&bt=1262&cs=0&ds=4&ft=4TMWc6DnppftrfL8Ds~.C_bAja-CInatGZtc6B0~Rx87tYpHDDqV650c0SXNpusZ.&mime_type=video_mp4&qs=0&rc=Nzk0NzxoNzhkZmc1Z2lpO0BpMzhrOjk6ZnM1cDMzNGkzM0A0XmIxLmI2NjUxNGJgNS1eYSNoX2JvcjRnNmVgLS1kLTBzcw%3D%3D&btag=c0000e00008000&cquery=101r_100B_100x_100z_100o&dy_q=1720251359&feature_id=46a7bb47b4fd1280f3d3825bf2b29388&l=202407061535588522AF894591A99EDB0B\"\n",
    "nickname = \"度华年\"\n",
    "index = 0\n",
    "title = \"“你观棋不语却恰破了我的局”\"\n",
    "\n",
    "remote_command = f\"/root/miniconda3/bin/python  /root/main/download.py --path {path} --url {url} --nickname {nickname} --index {index} --title {title}\"\n",
    "stdin, stdout, stderr = ssh.exec_command(remote_command)"
   ]
  },
  {
   "cell_type": "code",
   "execution_count": 26,
   "metadata": {},
   "outputs": [
    {
     "name": "stdout",
     "output_type": "stream",
     "text": [
      "{\"headers\": {\"authority\": \"www.douyin.com\", \"accept\": \"application/json, text/plain, */*\", \"accept-language\": \"zh-CN,zh;q=0.9,en;q=0.8,en-GB;q=0.7,en-US;q=0.6\", \"cache-control\": \"no-cache\", \"pragma\": \"no-cache\", \"referer\": \"https://www.douyin.com/user/MS4wLjABAAAAigSKToDtKeC5cuZ3YsDrHfYuvpLqVSygIZ0m0yXfUAI\", \"sec-ch-ua\": \"\\\"Microsoft Edge\\\";v=\\\"117\\\", \\\"Not;A=Brand\\\";v=\\\"8\\\", \\\"Chromium\\\";v=\\\"117\\\"\", \"sec-ch-ua-mobile\": \"?0\", \"sec-ch-ua-platform\": \"\\\"Windows\\\"\", \"sec-fetch-dest\": \"empty\", \"sec-fetch-mode\": \"cors\", \"sec-fetch-site\": \"same-origin\", \"user-agent\": \"Mozilla/5.0 (Windows NT 10.0; Win64; x64) AppleWebKit/537.36 (KHTML, like Gecko) Chrome/117.0.0.0 Safari/537.36 Edg/117.0.2045.47\"}, \"cookies\": {\"\": \"douyin.com\", \"device_web_cpu_core\": \"16\", \"device_web_memory_size\": \"8\", \"architecture\": \"amd64\", \"__ac_nonce\": \"0666871dc00f539142250\", \"__ac_signature\": \"_02B4Z6wo00f01nFEkFAAAIDDrT0P5B6Mf7JxZJTAAPpIba\", \"ttwid\": \"1%7CSgqzmDWDEF6wQnuw9ih-OrWz77N-B3QDwmUwnYDaJ4U%7C1718120924%7C78668148517980326fa940706ff5a6aab0c1c3520f74a5e2cbf87114c0d6e721\", \"s_v_web_id\": \"verify_lxaku6up_ptqgyP25_Fmd7_4gR2_84IX_N5J4xjUVVYHE\", \"home_can_add_dy_2_desktop\": \"%220%22\", \"dy_swidth\": \"1280\", \"dy_sheight\": \"720\", \"csrf_session_id\": \"c04881cce2d80716d330a8b1ff299ea1\", \"FORCE_LOGIN\": \"%7B%22videoConsumedRemainSeconds%22%3A180%7D\", \"strategyABtestKey\": \"%221718120926.785%22\", \"passport_csrf_token\": \"7da872791eb1c07c1e998a2565e4215e\", \"passport_csrf_token_default\": \"7da872791eb1c07c1e998a2565e4215e\", \"bd_ticket_guard_client_web_domain\": \"2\", \"fg_uid\": \"RID2024061123485116ED5FB2B10F4F3C462B\", \"d_ticket\": \"16c00fde83656d526c9d3ce0af0c3db41b6c2\", \"passport_assist_user\": \"CjyH8tjtpl_dwmrrwu-xxrANTz4sQ8dpWGrmbPupZLOUXiUwCb85PAk1Eyz7zSQgsUIdhAm56-BAlbi6ik8aSgo8r5fn3ng6yYkU6aAjUs9XFwStqWopsMfNCnkDezYYo62TpgjZiOyB_NAc9wX3njPHWLXaSvZ_dXG7npLRENDg0w0Yia_WVCABIgEDhzCrSQ%3D%3D\", \"n_mh\": \"Bv1ljUGuaJF_HWHcAfkFbClQ-4UbVUGnXpJaC23M9AI\", \"sso_auth_status\": \"6f46320a62832a68377f6410a1c89e87\", \"sso_auth_status_ss\": \"6f46320a62832a68377f6410a1c89e87\", \"sso_uid_tt\": \"02b5f1d5ab48303a957a9a9f35da773d\", \"sso_uid_tt_ss\": \"02b5f1d5ab48303a957a9a9f35da773d\", \"toutiao_sso_user\": \"134c6dbeeb5b654c6b25812342045107\", \"toutiao_sso_user_ss\": \"134c6dbeeb5b654c6b25812342045107\", \"sid_ucp_sso_v1\": \"1.0.0-KDFmOWRhZmE4ZTg5NjBmYTQ1ZjNhNTVjNGM3MDlkZjI4YmY0OWE0NmMKHwic9orE3gIQ-uOhswYY7zEgDDCuntXUBTgCQPEHSAYaAmxmIiAxMzRjNmRiZWViNWI2NTRjNmIyNTgxMjM0MjA0NTEwNw\", \"ssid_ucp_sso_v1\": \"1.0.0-KDFmOWRhZmE4ZTg5NjBmYTQ1ZjNhNTVjNGM3MDlkZjI4YmY0OWE0NmMKHwic9orE3gIQ-uOhswYY7zEgDDCuntXUBTgCQPEHSAYaAmxmIiAxMzRjNmRiZWViNWI2NTRjNmIyNTgxMjM0MjA0NTEwNw\", \"passport_auth_status\": \"1d0633b4ec7eb7b93518105c16eb4040%2C2c93e81e1832172f53f50fe60c64a650\", \"passport_auth_status_ss\": \"1d0633b4ec7eb7b93518105c16eb4040%2C2c93e81e1832172f53f50fe60c64a650\", \"uid_tt\": \"543ce0bd5082da44c210bae6139ee0fc\", \"uid_tt_ss\": \"543ce0bd5082da44c210bae6139ee0fc\", \"sid_tt\": \"17edae587f44a5588d6dd8d165611f7a\", \"sessionid\": \"17edae587f44a5588d6dd8d165611f7a\", \"sessionid_ss\": \"17edae587f44a5588d6dd8d165611f7a\", \"IsDouyinActive\": \"true\", \"stream_recommend_feed_params\": \"%22%7B%5C%22cookie_enabled%5C%22%3Atrue%2C%5C%22screen_width%5C%22%3A1280%2C%5C%22screen_height%5C%22%3A720%2C%5C%22browser_online%5C%22%3Atrue%2C%5C%22cpu_core_num%5C%22%3A16%2C%5C%22device_memory%5C%22%3A8%2C%5C%22downlink%5C%22%3A10%2C%5C%22effective_type%5C%22%3A%5C%224g%5C%22%2C%5C%22round_trip_time%5C%22%3A50%7D%22\", \"publish_badge_show_info\": \"%220%2C0%2C0%2C1718120956354%22\", \"FOLLOW_LIVE_POINT_INFO\": \"%22MS4wLjABAAAAfpO74Xbth7l00JkDAAUvGNglhQpVtMuWtrWJOZCER8A%2F1718121600000%2F0%2F1718120956555%2F0%22\", \"volume_info\": \"%7B%22isUserMute%22%3Afalse%2C%22isMute%22%3Afalse%2C%22volume%22%3A0.5%7D\", \"stream_player_status_params\": \"%22%7B%5C%22is_auto_play%5C%22%3A0%2C%5C%22is_full_screen%5C%22%3A0%2C%5C%22is_full_webscreen%5C%22%3A0%2C%5C%22is_mute%5C%22%3A0%2C%5C%22is_speed%5C%22%3A1%2C%5C%22is_visible%5C%22%3A1%7D%22\", \"passport_fe_beating_status\": \"true\", \"_bd_ticket_crypt_doamin\": \"2\", \"_bd_ticket_crypt_cookie\": \"c509aaf98df1790b55295465e3d04fc7\", \"__security_server_data_status\": \"1\", \"bd_ticket_guard_client_data\": \"eyJiZC10aWNrZXQtZ3VhcmQtdmVyc2lvbiI6MiwiYmQtdGlja2V0LWd1YXJkLWl0ZXJhdGlvbi12ZXJzaW9uIjoxLCJiZC10aWNrZXQtZ3VhcmQtcmVlLXB1YmxpYy1rZXkiOiJCQnRaODRieEdJQnpwMzdlNjZFdnJPeVkxd09tMXAxV2lXdHE5OEdxRGVQOEZLOVZMa3ZkZVNUdEdFQm5zblFnNlg2K0J4ZnRqSWxyYjZ6MWxSMnkwNzA9IiwiYmQtdGlja2V0LWd1YXJkLXdlYi12ZXJzaW9uIjoxfQ%3D%3D\", \"sid_guard\": \"17edae587f44a5588d6dd8d165611f7a%7C1718120958%7C5183999%7CSat%2C+10-Aug-2024+15%3A49%3A17+GMT\", \"sid_ucp_v1\": \"1.0.0-KDAxNjdkM2ZhNjRlOTQ3YzFiM2U3ODk5MjljNGE3MTYzMWFjMzA1NWQKGQic9orE3gIQ_uOhswYY7zEgDDgCQPEHSAQaAmxmIiAxN2VkYWU1ODdmNDRhNTU4OGQ2ZGQ4ZDE2NTYxMWY3YQ\", \"ssid_ucp_v1\": \"1.0.0-KDAxNjdkM2ZhNjRlOTQ3YzFiM2U3ODk5MjljNGE3MTYzMWFjMzA1NWQKGQic9orE3gIQ_uOhswYY7zEgDDgCQPEHSAQaAmxmIiAxN2VkYWU1ODdmNDRhNTU4OGQ2ZGQ4ZDE2NTYxMWY3YQ\", \"store-region\": \"cn-gd\", \"store-region-src\": \"uid\", \"msToken\": \"Lb_Qnr7YEsvvL8UUbXqkcVj3oSRYghdFq5U5BpsM8OozOaggTJzqo1koKtbQvT1I_9gM-rgW2ofXQrDys8Hc0camRmTth6cgtBCta0CPiovQU3ISpTeK2YCsGMGMpA==\", \"odin_tt\": \"9b741f90a9d21224b95d0d96331e595ff535fb5160d647b6d5a468b069bf660eacf59ccd0858bd893e82fc2daba826d4\"}}\n",
      "用户: None, 第None条视频: 标题: None 本地已存在，跳过保存\n",
      "video开始下载, http://v3-web.douyinvod.com/4c69325e49aed27d8f57e50471f0cf2b/66891009/video/tos/cn/tos-cn-ve-15c001-alinc2/oIDeoD9AQAAb1IVEglLg7QsrDBeTLXoni5LmlN/?a=6383\n",
      "视频:0.00MB\t 下载进度:[>>>>>>>>>>>>>>>>>>>>>>>>>>>>>>>>>>>>>>>>>>>>>>>>>>100.00%]耗时: 0.1s, video下载完成\n",
      "\n",
      "bash: --nickname: command not found\n",
      "\n"
     ]
    }
   ],
   "source": [
    "print(stdout.read().decode())\n",
    "print(stderr.read().decode())"
   ]
  },
  {
   "cell_type": "code",
   "execution_count": null,
   "metadata": {},
   "outputs": [],
   "source": []
  }
 ],
 "metadata": {
  "kernelspec": {
   "display_name": "venv",
   "language": "python",
   "name": "python3"
  },
  "language_info": {
   "codemirror_mode": {
    "name": "ipython",
    "version": 3
   },
   "file_extension": ".py",
   "mimetype": "text/x-python",
   "name": "python",
   "nbconvert_exporter": "python",
   "pygments_lexer": "ipython3",
   "version": "3.10.9"
  }
 },
 "nbformat": 4,
 "nbformat_minor": 2
}
